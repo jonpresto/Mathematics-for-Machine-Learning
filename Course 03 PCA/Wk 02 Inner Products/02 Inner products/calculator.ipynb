{
 "cells": [
  {
   "cell_type": "code",
   "execution_count": 7,
   "id": "1c4ea84b",
   "metadata": {},
   "outputs": [
    {
     "name": "stderr",
     "output_type": "stream",
     "text": [
      "/var/folders/2k/23x_w6qj7qz9w70cg0_lqtqh0000gn/T/ipykernel_53779/3720746224.py:16: RuntimeWarning: invalid value encountered in arccos\n",
      "  angle = np.pi - np.arccos(-alpha)\n"
     ]
    },
    {
     "data": {
      "text/plain": [
       "nan"
      ]
     },
     "execution_count": 7,
     "metadata": {},
     "output_type": "execute_result"
    }
   ],
   "source": [
    "# the matrix A defines the inner product\n",
    "import numpy as np\n",
    "\n",
    "A = np.array([[1, -1/2],[-1/2,5]])\n",
    "x = np.array([0,-1])\n",
    "y = np.array([1,1])\n",
    "\n",
    "def find_angle(A, x, y):\n",
    "    \"\"\"Compute the angle\"\"\"\n",
    "    inner_prod = x.T @ A @ y\n",
    "    # Fill in the expression for norm_x and norm_y below\n",
    "    norm_x = np.linalg.norm(x)\n",
    "    norm_y = np.linalg.norm(y)\n",
    "    alpha = inner_prod/(norm_x*norm_y)\n",
    "    if alpha < 0:\n",
    "        angle = np.pi - np.arccos(-alpha)\n",
    "    else:\n",
    "        angle = np.arccos(alpha)\n",
    "    return np.round(angle,2) \n",
    "\n",
    "find_angle(A, x, y)"
   ]
  },
  {
   "cell_type": "code",
   "execution_count": 3,
   "id": "d4bf72c9",
   "metadata": {},
   "outputs": [],
   "source": [
    "y = np.array([1,1])"
   ]
  },
  {
   "cell_type": "code",
   "execution_count": 4,
   "id": "25b72edc",
   "metadata": {},
   "outputs": [
    {
     "data": {
      "text/plain": [
       "1.4142135623730951"
      ]
     },
     "execution_count": 4,
     "metadata": {},
     "output_type": "execute_result"
    }
   ],
   "source": [
    "np.linalg.norm(y)"
   ]
  },
  {
   "cell_type": "code",
   "execution_count": 6,
   "id": "693bec98",
   "metadata": {},
   "outputs": [
    {
     "data": {
      "text/plain": [
       "3.141592653589793"
      ]
     },
     "execution_count": 6,
     "metadata": {},
     "output_type": "execute_result"
    }
   ],
   "source": [
    "np.pi"
   ]
  },
  {
   "cell_type": "code",
   "execution_count": 8,
   "id": "9b77c829",
   "metadata": {},
   "outputs": [],
   "source": [
    "A = np.array([[1,0],[0,5]])\n",
    "x = np.array([1,1])\n",
    "y = np.array([1,1])"
   ]
  },
  {
   "cell_type": "code",
   "execution_count": 9,
   "id": "32057e9f",
   "metadata": {},
   "outputs": [
    {
     "data": {
      "text/plain": [
       "array([[1, 0],\n",
       "       [0, 5]])"
      ]
     },
     "execution_count": 9,
     "metadata": {},
     "output_type": "execute_result"
    }
   ],
   "source": [
    "A"
   ]
  },
  {
   "cell_type": "code",
   "execution_count": 10,
   "id": "82c6d7e3",
   "metadata": {},
   "outputs": [
    {
     "name": "stderr",
     "output_type": "stream",
     "text": [
      "/var/folders/2k/23x_w6qj7qz9w70cg0_lqtqh0000gn/T/ipykernel_53779/3720746224.py:18: RuntimeWarning: invalid value encountered in arccos\n",
      "  angle = np.arccos(alpha)\n"
     ]
    },
    {
     "data": {
      "text/plain": [
       "nan"
      ]
     },
     "execution_count": 10,
     "metadata": {},
     "output_type": "execute_result"
    }
   ],
   "source": [
    "find_angle(A, x, y)"
   ]
  },
  {
   "cell_type": "code",
   "execution_count": null,
   "id": "95c4f0b6",
   "metadata": {},
   "outputs": [],
   "source": []
  }
 ],
 "metadata": {
  "kernelspec": {
   "display_name": "Python 3 (ipykernel)",
   "language": "python",
   "name": "python3"
  },
  "language_info": {
   "codemirror_mode": {
    "name": "ipython",
    "version": 3
   },
   "file_extension": ".py",
   "mimetype": "text/x-python",
   "name": "python",
   "nbconvert_exporter": "python",
   "pygments_lexer": "ipython3",
   "version": "3.9.7"
  }
 },
 "nbformat": 4,
 "nbformat_minor": 5
}
